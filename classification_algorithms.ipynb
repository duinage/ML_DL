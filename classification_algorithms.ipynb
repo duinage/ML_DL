{
 "cells": [
  {
   "cell_type": "markdown",
   "metadata": {},
   "source": [
    "# Research and comparison of classification methods on a dataset of heart diseases.\n",
    "## Author: Vadym Tunik."
   ]
  },
  {
   "cell_type": "markdown",
   "metadata": {},
   "source": [
    "URL: https://archive.ics.uci.edu/ml/datasets/Heart+Disease \\\n",
    "Data: processed.clivelend.data, heart-disease.names"
   ]
  },
  {
   "cell_type": "code",
   "execution_count": 54,
   "metadata": {},
   "outputs": [],
   "source": [
    "# general tools\n",
    "import numpy as np\n",
    "import pandas as pd\n",
    "import matplotlib.pyplot as plt\n",
    "from mpl_toolkits.mplot3d import Axes3D\n",
    "\n",
    "# sub-tools\n",
    "from sklearn.model_selection import train_test_split\n",
    "from sklearn.preprocessing import PolynomialFeatures, MinMaxScaler\n",
    "from sklearn.metrics import accuracy_score, confusion_matrix, f1_score\n",
    "\n",
    "# models\n",
    "from sklearn.svm import SVC\n",
    "from sklearn.naive_bayes import GaussianNB\n",
    "from sklearn.tree import DecisionTreeClassifier\n",
    "from sklearn.neighbors import KNeighborsClassifier\n",
    "from sklearn.linear_model import LogisticRegression\n",
    "from sklearn.ensemble import GradientBoostingClassifier, RandomForestClassifier\n",
    "\n",
    "# Bayesian optimization\n",
    "from hyperopt import fmin, tpe, hp, STATUS_OK, Trials, space_eval"
   ]
  },
  {
   "cell_type": "code",
   "execution_count": 55,
   "metadata": {},
   "outputs": [
    {
     "data": {
      "text/html": [
       "<div>\n",
       "<style scoped>\n",
       "    .dataframe tbody tr th:only-of-type {\n",
       "        vertical-align: middle;\n",
       "    }\n",
       "\n",
       "    .dataframe tbody tr th {\n",
       "        vertical-align: top;\n",
       "    }\n",
       "\n",
       "    .dataframe thead th {\n",
       "        text-align: right;\n",
       "    }\n",
       "</style>\n",
       "<table border=\"1\" class=\"dataframe\">\n",
       "  <thead>\n",
       "    <tr style=\"text-align: right;\">\n",
       "      <th></th>\n",
       "      <th>age</th>\n",
       "      <th>sex</th>\n",
       "      <th>cp</th>\n",
       "      <th>trestbps</th>\n",
       "      <th>chol</th>\n",
       "      <th>fbs</th>\n",
       "      <th>restecg</th>\n",
       "      <th>thalach</th>\n",
       "      <th>exang</th>\n",
       "      <th>oldpeak</th>\n",
       "      <th>slope</th>\n",
       "      <th>ca</th>\n",
       "      <th>thal</th>\n",
       "      <th>num</th>\n",
       "    </tr>\n",
       "  </thead>\n",
       "  <tbody>\n",
       "    <tr>\n",
       "      <th>0</th>\n",
       "      <td>63.0</td>\n",
       "      <td>1.0</td>\n",
       "      <td>1.0</td>\n",
       "      <td>145.0</td>\n",
       "      <td>233.0</td>\n",
       "      <td>1.0</td>\n",
       "      <td>2.0</td>\n",
       "      <td>150.0</td>\n",
       "      <td>0.0</td>\n",
       "      <td>2.3</td>\n",
       "      <td>3.0</td>\n",
       "      <td>0.0</td>\n",
       "      <td>6.0</td>\n",
       "      <td>0</td>\n",
       "    </tr>\n",
       "    <tr>\n",
       "      <th>1</th>\n",
       "      <td>67.0</td>\n",
       "      <td>1.0</td>\n",
       "      <td>4.0</td>\n",
       "      <td>160.0</td>\n",
       "      <td>286.0</td>\n",
       "      <td>0.0</td>\n",
       "      <td>2.0</td>\n",
       "      <td>108.0</td>\n",
       "      <td>1.0</td>\n",
       "      <td>1.5</td>\n",
       "      <td>2.0</td>\n",
       "      <td>3.0</td>\n",
       "      <td>3.0</td>\n",
       "      <td>2</td>\n",
       "    </tr>\n",
       "    <tr>\n",
       "      <th>2</th>\n",
       "      <td>67.0</td>\n",
       "      <td>1.0</td>\n",
       "      <td>4.0</td>\n",
       "      <td>120.0</td>\n",
       "      <td>229.0</td>\n",
       "      <td>0.0</td>\n",
       "      <td>2.0</td>\n",
       "      <td>129.0</td>\n",
       "      <td>1.0</td>\n",
       "      <td>2.6</td>\n",
       "      <td>2.0</td>\n",
       "      <td>2.0</td>\n",
       "      <td>7.0</td>\n",
       "      <td>1</td>\n",
       "    </tr>\n",
       "    <tr>\n",
       "      <th>3</th>\n",
       "      <td>37.0</td>\n",
       "      <td>1.0</td>\n",
       "      <td>3.0</td>\n",
       "      <td>130.0</td>\n",
       "      <td>250.0</td>\n",
       "      <td>0.0</td>\n",
       "      <td>0.0</td>\n",
       "      <td>187.0</td>\n",
       "      <td>0.0</td>\n",
       "      <td>3.5</td>\n",
       "      <td>3.0</td>\n",
       "      <td>0.0</td>\n",
       "      <td>3.0</td>\n",
       "      <td>0</td>\n",
       "    </tr>\n",
       "    <tr>\n",
       "      <th>4</th>\n",
       "      <td>41.0</td>\n",
       "      <td>0.0</td>\n",
       "      <td>2.0</td>\n",
       "      <td>130.0</td>\n",
       "      <td>204.0</td>\n",
       "      <td>0.0</td>\n",
       "      <td>2.0</td>\n",
       "      <td>172.0</td>\n",
       "      <td>0.0</td>\n",
       "      <td>1.4</td>\n",
       "      <td>1.0</td>\n",
       "      <td>0.0</td>\n",
       "      <td>3.0</td>\n",
       "      <td>0</td>\n",
       "    </tr>\n",
       "  </tbody>\n",
       "</table>\n",
       "</div>"
      ],
      "text/plain": [
       "    age  sex   cp  trestbps   chol  fbs  restecg  thalach  exang  oldpeak  \\\n",
       "0  63.0  1.0  1.0     145.0  233.0  1.0      2.0    150.0    0.0      2.3   \n",
       "1  67.0  1.0  4.0     160.0  286.0  0.0      2.0    108.0    1.0      1.5   \n",
       "2  67.0  1.0  4.0     120.0  229.0  0.0      2.0    129.0    1.0      2.6   \n",
       "3  37.0  1.0  3.0     130.0  250.0  0.0      0.0    187.0    0.0      3.5   \n",
       "4  41.0  0.0  2.0     130.0  204.0  0.0      2.0    172.0    0.0      1.4   \n",
       "\n",
       "   slope   ca thal  num  \n",
       "0    3.0  0.0  6.0    0  \n",
       "1    2.0  3.0  3.0    2  \n",
       "2    2.0  2.0  7.0    1  \n",
       "3    3.0  0.0  3.0    0  \n",
       "4    1.0  0.0  3.0    0  "
      ]
     },
     "execution_count": 55,
     "metadata": {},
     "output_type": "execute_result"
    }
   ],
   "source": [
    "names_list = ['age', 'sex', 'cp', 'trestbps', 'chol', 'fbs', 'restecg',\n",
    "              'thalach', 'exang', 'oldpeak', 'slope', 'ca', 'thal', 'num']\n",
    "\n",
    "data = pd.read_csv('data/processed.cleveland.data', names=names_list)\n",
    "data.head()"
   ]
  },
  {
   "cell_type": "markdown",
   "metadata": {},
   "source": [
    "### 1. Process the data for missing values."
   ]
  },
  {
   "cell_type": "code",
   "execution_count": 56,
   "metadata": {},
   "outputs": [
    {
     "name": "stdout",
     "output_type": "stream",
     "text": [
      "<class 'pandas.core.frame.DataFrame'>\n",
      "RangeIndex: 303 entries, 0 to 302\n",
      "Data columns (total 14 columns):\n",
      " #   Column    Non-Null Count  Dtype  \n",
      "---  ------    --------------  -----  \n",
      " 0   age       303 non-null    float64\n",
      " 1   sex       303 non-null    float64\n",
      " 2   cp        303 non-null    float64\n",
      " 3   trestbps  303 non-null    float64\n",
      " 4   chol      303 non-null    float64\n",
      " 5   fbs       303 non-null    float64\n",
      " 6   restecg   303 non-null    float64\n",
      " 7   thalach   303 non-null    float64\n",
      " 8   exang     303 non-null    float64\n",
      " 9   oldpeak   303 non-null    float64\n",
      " 10  slope     303 non-null    float64\n",
      " 11  ca        303 non-null    object \n",
      " 12  thal      303 non-null    object \n",
      " 13  num       303 non-null    int64  \n",
      "dtypes: float64(11), int64(1), object(2)\n",
      "memory usage: 33.3+ KB\n"
     ]
    }
   ],
   "source": [
    "data.info()"
   ]
  },
  {
   "cell_type": "markdown",
   "metadata": {},
   "source": [
    "So we can see that columns 11 and 12 contain some non-numerical data, so let's remove them. \\\n",
    "To do this, notice that the missing data is marked as “?”."
   ]
  },
  {
   "cell_type": "code",
   "execution_count": 57,
   "metadata": {},
   "outputs": [
    {
     "data": {
      "text/plain": [
       "age          53.0\n",
       "sex           0.0\n",
       "cp            3.0\n",
       "trestbps    128.0\n",
       "chol        216.0\n",
       "fbs           0.0\n",
       "restecg       2.0\n",
       "thalach     115.0\n",
       "exang         0.0\n",
       "oldpeak       0.0\n",
       "slope         1.0\n",
       "ca            0.0\n",
       "thal            ?\n",
       "num             0\n",
       "Name: 87, dtype: object"
      ]
     },
     "execution_count": 57,
     "metadata": {},
     "output_type": "execute_result"
    }
   ],
   "source": [
    "data.iloc[87]"
   ]
  },
  {
   "cell_type": "markdown",
   "metadata": {},
   "source": [
    "So, we need to remove the lines with “?” and convert all occurrences to a numeric data type if possible (if it is NOT possible to convert occurrences to a numeric data type, an error will occur and we will have to expand the list of character occurrences that we remove as missing values)."
   ]
  },
  {
   "cell_type": "code",
   "execution_count": 58,
   "metadata": {},
   "outputs": [
    {
     "name": "stdout",
     "output_type": "stream",
     "text": [
      "<class 'pandas.core.frame.DataFrame'>\n",
      "Index: 297 entries, 0 to 301\n",
      "Data columns (total 14 columns):\n",
      " #   Column    Non-Null Count  Dtype  \n",
      "---  ------    --------------  -----  \n",
      " 0   age       297 non-null    float64\n",
      " 1   sex       297 non-null    float64\n",
      " 2   cp        297 non-null    float64\n",
      " 3   trestbps  297 non-null    float64\n",
      " 4   chol      297 non-null    float64\n",
      " 5   fbs       297 non-null    float64\n",
      " 6   restecg   297 non-null    float64\n",
      " 7   thalach   297 non-null    float64\n",
      " 8   exang     297 non-null    float64\n",
      " 9   oldpeak   297 non-null    float64\n",
      " 10  slope     297 non-null    float64\n",
      " 11  ca        297 non-null    float64\n",
      " 12  thal      297 non-null    float64\n",
      " 13  num       297 non-null    int64  \n",
      "dtypes: float64(13), int64(1)\n",
      "memory usage: 34.8 KB\n"
     ]
    }
   ],
   "source": [
    "clean_data = data.replace('?', pd.NA)\n",
    "clean_data = clean_data.dropna()\n",
    "clean_data = clean_data.apply(pd.to_numeric)\n",
    "clean_data.info()"
   ]
  },
  {
   "cell_type": "markdown",
   "metadata": {},
   "source": [
    "![alt text](features_descryption.png)"
   ]
  },
  {
   "cell_type": "markdown",
   "metadata": {},
   "source": [
    "The purpose of the dataset is to categorize patients and healthy people.\\\n",
    "Therefore, we change the target variable to 0 (healthy) and 1 (sick)"
   ]
  },
  {
   "cell_type": "code",
   "execution_count": 59,
   "metadata": {},
   "outputs": [
    {
     "data": {
      "text/html": [
       "<div>\n",
       "<style scoped>\n",
       "    .dataframe tbody tr th:only-of-type {\n",
       "        vertical-align: middle;\n",
       "    }\n",
       "\n",
       "    .dataframe tbody tr th {\n",
       "        vertical-align: top;\n",
       "    }\n",
       "\n",
       "    .dataframe thead th {\n",
       "        text-align: right;\n",
       "    }\n",
       "</style>\n",
       "<table border=\"1\" class=\"dataframe\">\n",
       "  <thead>\n",
       "    <tr style=\"text-align: right;\">\n",
       "      <th></th>\n",
       "      <th>age</th>\n",
       "      <th>sex</th>\n",
       "      <th>cp</th>\n",
       "      <th>trestbps</th>\n",
       "      <th>chol</th>\n",
       "      <th>fbs</th>\n",
       "      <th>restecg</th>\n",
       "      <th>thalach</th>\n",
       "      <th>exang</th>\n",
       "      <th>oldpeak</th>\n",
       "      <th>slope</th>\n",
       "      <th>ca</th>\n",
       "      <th>thal</th>\n",
       "      <th>num</th>\n",
       "    </tr>\n",
       "  </thead>\n",
       "  <tbody>\n",
       "    <tr>\n",
       "      <th>0</th>\n",
       "      <td>63.0</td>\n",
       "      <td>1.0</td>\n",
       "      <td>1.0</td>\n",
       "      <td>145.0</td>\n",
       "      <td>233.0</td>\n",
       "      <td>1.0</td>\n",
       "      <td>2.0</td>\n",
       "      <td>150.0</td>\n",
       "      <td>0.0</td>\n",
       "      <td>2.3</td>\n",
       "      <td>3.0</td>\n",
       "      <td>0.0</td>\n",
       "      <td>6.0</td>\n",
       "      <td>0</td>\n",
       "    </tr>\n",
       "    <tr>\n",
       "      <th>1</th>\n",
       "      <td>67.0</td>\n",
       "      <td>1.0</td>\n",
       "      <td>4.0</td>\n",
       "      <td>160.0</td>\n",
       "      <td>286.0</td>\n",
       "      <td>0.0</td>\n",
       "      <td>2.0</td>\n",
       "      <td>108.0</td>\n",
       "      <td>1.0</td>\n",
       "      <td>1.5</td>\n",
       "      <td>2.0</td>\n",
       "      <td>3.0</td>\n",
       "      <td>3.0</td>\n",
       "      <td>1</td>\n",
       "    </tr>\n",
       "    <tr>\n",
       "      <th>2</th>\n",
       "      <td>67.0</td>\n",
       "      <td>1.0</td>\n",
       "      <td>4.0</td>\n",
       "      <td>120.0</td>\n",
       "      <td>229.0</td>\n",
       "      <td>0.0</td>\n",
       "      <td>2.0</td>\n",
       "      <td>129.0</td>\n",
       "      <td>1.0</td>\n",
       "      <td>2.6</td>\n",
       "      <td>2.0</td>\n",
       "      <td>2.0</td>\n",
       "      <td>7.0</td>\n",
       "      <td>1</td>\n",
       "    </tr>\n",
       "    <tr>\n",
       "      <th>3</th>\n",
       "      <td>37.0</td>\n",
       "      <td>1.0</td>\n",
       "      <td>3.0</td>\n",
       "      <td>130.0</td>\n",
       "      <td>250.0</td>\n",
       "      <td>0.0</td>\n",
       "      <td>0.0</td>\n",
       "      <td>187.0</td>\n",
       "      <td>0.0</td>\n",
       "      <td>3.5</td>\n",
       "      <td>3.0</td>\n",
       "      <td>0.0</td>\n",
       "      <td>3.0</td>\n",
       "      <td>0</td>\n",
       "    </tr>\n",
       "    <tr>\n",
       "      <th>4</th>\n",
       "      <td>41.0</td>\n",
       "      <td>0.0</td>\n",
       "      <td>2.0</td>\n",
       "      <td>130.0</td>\n",
       "      <td>204.0</td>\n",
       "      <td>0.0</td>\n",
       "      <td>2.0</td>\n",
       "      <td>172.0</td>\n",
       "      <td>0.0</td>\n",
       "      <td>1.4</td>\n",
       "      <td>1.0</td>\n",
       "      <td>0.0</td>\n",
       "      <td>3.0</td>\n",
       "      <td>0</td>\n",
       "    </tr>\n",
       "  </tbody>\n",
       "</table>\n",
       "</div>"
      ],
      "text/plain": [
       "    age  sex   cp  trestbps   chol  fbs  restecg  thalach  exang  oldpeak  \\\n",
       "0  63.0  1.0  1.0     145.0  233.0  1.0      2.0    150.0    0.0      2.3   \n",
       "1  67.0  1.0  4.0     160.0  286.0  0.0      2.0    108.0    1.0      1.5   \n",
       "2  67.0  1.0  4.0     120.0  229.0  0.0      2.0    129.0    1.0      2.6   \n",
       "3  37.0  1.0  3.0     130.0  250.0  0.0      0.0    187.0    0.0      3.5   \n",
       "4  41.0  0.0  2.0     130.0  204.0  0.0      2.0    172.0    0.0      1.4   \n",
       "\n",
       "   slope   ca  thal  num  \n",
       "0    3.0  0.0   6.0    0  \n",
       "1    2.0  3.0   3.0    1  \n",
       "2    2.0  2.0   7.0    1  \n",
       "3    3.0  0.0   3.0    0  \n",
       "4    1.0  0.0   3.0    0  "
      ]
     },
     "execution_count": 59,
     "metadata": {},
     "output_type": "execute_result"
    }
   ],
   "source": [
    "clean_data['num'] =  (clean_data['num'] >= 1).astype(int)\n",
    "clean_data.head()"
   ]
  },
  {
   "cell_type": "markdown",
   "metadata": {},
   "source": [
    "Now let's normalize the sample and divide the sample into test and training (without categorical features) in proportions of 20% and 80%."
   ]
  },
  {
   "cell_type": "code",
   "execution_count": 60,
   "metadata": {},
   "outputs": [],
   "source": [
    "names_list_without_categorical_and_response = ['age', 'trestbps', 'chol', 'thalach', 'oldpeak', 'ca']\n",
    "x = clean_data[names_list_without_categorical_and_response]\n",
    "y = pd.DataFrame(clean_data.iloc[:,-1])\n",
    "\n",
    "min_max_scaler = MinMaxScaler()\n",
    "x = min_max_scaler.fit_transform(x)\n",
    "\n",
    "x_train, x_test, y_train, y_test = train_test_split(x, y, test_size=0.2, random_state=2024)\n",
    "y_train, y_test = y_train.values.ravel(), y_test.values.ravel()  # apply ravel() to avoid DataConversionWarning"
   ]
  },
  {
   "cell_type": "markdown",
   "metadata": {},
   "source": [
    "### 2. Naive Bayesian classifier.\n",
    "https://scikit-learn.org/stable/modules/naive_bayes.html"
   ]
  },
  {
   "cell_type": "code",
   "execution_count": 84,
   "metadata": {},
   "outputs": [
    {
     "name": "stdout",
     "output_type": "stream",
     "text": [
      "accuracy: 68.33%\n",
      "\n",
      "confusion_matrix: \n",
      "[[24 11]\n",
      " [ 8 17]]\n",
      "\n",
      "f1-score: 0.6852060452454707\n"
     ]
    }
   ],
   "source": [
    "classificator = GaussianNB() # use Gaussian Naive Bayes due to the continuous nature of our data\n",
    "y_pred = classificator.fit(x_train, y_train).predict(x_test)\n",
    "\n",
    "print(f\"accuracy: {np.round(accuracy_score(y_test, y_pred)*100,2)}%\\n\")\n",
    "print(f\"confusion_matrix: \\n{confusion_matrix(y_test, y_pred)}\\n\")\n",
    "print(f\"f1-score: {f1_score(y_test, y_pred, average='weighted')}\")"
   ]
  },
  {
   "cell_type": "markdown",
   "metadata": {},
   "source": [
    "So, we can see that our classifier is doing a terrible job.\\\n",
    "The accuracy is less than 70%, the f1-score is also far from 1.0, and so on. \\\n",
    "What does this tell us? It tells us that the assumption of the independence of the variables is far from true."
   ]
  },
  {
   "cell_type": "markdown",
   "metadata": {},
   "source": [
    "I'd also like to clarify that we will use the 'weighted' f1-score\\\n",
    "because this approach gives more weight to classes with more instances\\\n",
    "(the class with no heart disease is twice as large as the others in total)."
   ]
  },
  {
   "cell_type": "markdown",
   "metadata": {},
   "source": [
    "### 3. Classification by the k-nn method, with different values of n.\n",
    "\n",
    "https://scikit-learn.org/stable/modules/generated/sklearn.neighbors.KNeighborsClassifier.html"
   ]
  },
  {
   "cell_type": "code",
   "execution_count": 85,
   "metadata": {},
   "outputs": [
    {
     "data": {
      "image/png": "[encoded data removed]",
      "text/plain": [
       "<Figure size 640x480 with 1 Axes>"
      ]
     },
     "metadata": {},
     "output_type": "display_data"
    }
   ],
   "source": [
    "n_neighbors_list = np.arange(1,200)\n",
    "accuracy_history = []\n",
    "for n_neighbors in n_neighbors_list:\n",
    "    classificator = KNeighborsClassifier(n_neighbors=n_neighbors)\n",
    "    y_pred = classificator.fit(x_train, y_train).predict(x_test)\n",
    "\n",
    "    temp_accuracy = accuracy_score(y_test, y_pred)*100\n",
    "    accuracy_history.append(temp_accuracy)\n",
    "\n",
    "plt.plot(n_neighbors_list, accuracy_history)\n",
    "plt.xlabel('neighbors')\n",
    "plt.ylabel('accuracy, %')\n",
    "plt.show()"
   ]
  },
  {
   "cell_type": "code",
   "execution_count": 86,
   "metadata": {},
   "outputs": [
    {
     "name": "stdout",
     "output_type": "stream",
     "text": [
      "n=15\n",
      "accuracy: 78.33%\n",
      "\n",
      "confusion_matrix: \n",
      "[[29  6]\n",
      " [ 7 18]]\n",
      "\n",
      "f1-score: 0.782648270575836\n"
     ]
    }
   ],
   "source": [
    "n = n_neighbors_list[np.argmax(accuracy_history)]\n",
    "print(f'{n=}')\n",
    "\n",
    "classificator = KNeighborsClassifier(n_neighbors=n)\n",
    "y_pred = classificator.fit(x_train, y_train).predict(x_test)\n",
    "\n",
    "print(f\"accuracy: {np.round(accuracy_score(y_test, y_pred)*100,2)}%\\n\")\n",
    "print(f\"confusion_matrix: \\n{confusion_matrix(y_test, y_pred)}\\n\")\n",
    "print(f\"f1-score: {f1_score(y_test, y_pred, average='weighted')}\")"
   ]
  },
  {
   "cell_type": "markdown",
   "metadata": {},
   "source": [
    "So the maximum accuracy 78.33% is for n_neighbors=15. \\\n",
    "This is definitely a better result than the Naive Bayesian classifier and the best result using the k-nn method,  but we obviously want to do better."
   ]
  },
  {
   "cell_type": "markdown",
   "metadata": {},
   "source": [
    "### 4. Classification using logistic regression.\n",
    "\n",
    "https://scikit-learn.org/stable/modules/generated/sklearn.linear_model.LogisticRegression.html#sklearn.linear_model.LogisticRegression"
   ]
  },
  {
   "cell_type": "code",
   "execution_count": 87,
   "metadata": {},
   "outputs": [
    {
     "name": "stdout",
     "output_type": "stream",
     "text": [
      "accuracy: 78.33%\n",
      "\n",
      "confusion_matrix: \n",
      "[[29  6]\n",
      " [ 7 18]]\n",
      "\n",
      "f1-score: 0.782648270575836\n"
     ]
    }
   ],
   "source": [
    "classificator = LogisticRegression()\n",
    "y_pred = classificator.fit(x_train, y_train).predict(x_test)\n",
    "\n",
    "print(f\"accuracy: {np.round(accuracy_score(y_test, y_pred)*100,2)}%\\n\")\n",
    "print(f\"confusion_matrix: \\n{confusion_matrix(y_test, y_pred)}\\n\")\n",
    "print(f\"f1-score: {f1_score(y_test, y_pred, average='weighted')}\")"
   ]
  },
  {
   "cell_type": "markdown",
   "metadata": {},
   "source": [
    "Unfortunately, logistic regression did not bring any improvements.\\\n",
    "Perhaps if we add a factor variable to it later, it will perform better."
   ]
  },
  {
   "cell_type": "markdown",
   "metadata": {},
   "source": [
    "### 5. Classification using SVM, with different kernels and hyperparameters.\n",
    "\n",
    "https://scikit-learn.org/stable/modules/svm.html#svm-classification"
   ]
  },
  {
   "cell_type": "code",
   "execution_count": 88,
   "metadata": {},
   "outputs": [
    {
     "name": "stdout",
     "output_type": "stream",
     "text": [
      "100%|██████████| 200/200 [00:12<00:00, 15.90trial/s, best loss: 0.18333333333333335]\n",
      "best_params={'C': 2.3658826905080765, 'kernel': 'poly'}\n",
      "accuracy: 81.67%\n",
      "\n",
      "confusion_matrix: \n",
      "[[28  7]\n",
      " [ 4 21]]\n",
      "\n",
      "f1-score: 0.8177508683000094\n"
     ]
    }
   ],
   "source": [
    "def objective(params):\n",
    "    kernel = params['kernel']\n",
    "    C = params['C']\n",
    "\n",
    "    model = SVC(kernel=kernel, C=C)\n",
    "    model.fit(x_train, y_train)\n",
    "    y_pred = model.predict(x_test)\n",
    "    \n",
    "    loss  = 1 - accuracy_score(y_test, y_pred)\n",
    "    return {'loss': loss, 'status': STATUS_OK}\n",
    "\n",
    "space = {\n",
    "    'kernel': hp.choice('kernel', ['linear', 'poly', 'rbf', 'sigmoid']),\n",
    "    'C': hp.uniform('C', 0.01, 100),\n",
    "}\n",
    "\n",
    "trials = Trials()\n",
    "fmin_results = fmin(fn=objective, space=space, algo=tpe.suggest, max_evals=200, trials=trials)\n",
    "best_params = space_eval(space, fmin_results)\n",
    "\n",
    "best_model = SVC(kernel=best_params['kernel'], C=best_params['C'])\n",
    "best_model.fit(x_train, y_train)\n",
    "\n",
    "y_pred = best_model.predict(x_test)\n",
    "score = accuracy_score(y_test, y_pred)\n",
    "print(f\"{best_params=}\")\n",
    "print(f\"accuracy: {np.round(score*100,2)}%\\n\")\n",
    "print(f\"confusion_matrix: \\n{confusion_matrix(y_test, y_pred)}\\n\")\n",
    "print(f\"f1-score: {f1_score(y_test, y_pred, average='weighted')}\")\n"
   ]
  },
  {
   "cell_type": "markdown",
   "metadata": {},
   "source": [
    "Cool, we've improved in all quality metrics. Let's see if we can do better."
   ]
  },
  {
   "cell_type": "code",
   "execution_count": 116,
   "metadata": {},
   "outputs": [
    {
     "data": {
      "image/png": "[encoded data removed]",
      "text/plain": [
       "<Figure size 640x480 with 1 Axes>"
      ]
     },
     "metadata": {},
     "output_type": "display_data"
    }
   ],
   "source": [
    "x = [t['result']['loss'] for t in trials.trials]\n",
    "y = [t['misc']['vals']['C'] for t in trials.trials]\n",
    "z = [t['misc']['vals']['kernel'] for t in trials.trials]\n",
    "\n",
    "fig = plt.figure()\n",
    "ax = fig.add_subplot(111, projection='3d')\n",
    "ax.scatter(x, y, z)\n",
    "ax.set_xlabel('loss')\n",
    "_ = plt.title('params vs loss')"
   ]
  },
  {
   "cell_type": "markdown",
   "metadata": {},
   "source": [
    "### 6. Classification using trees, boosting, and random forest. Different configurations.\n",
    "\n",
    "https://scikit-learn.org/stable/modules/generated/sklearn.tree.DecisionTreeClassifier.html#sklearn.tree.DecisionTreeClassifier \\\n",
    "https://scikit-learn.org/stable/modules/generated/sklearn.ensemble.GradientBoostingClassifier.html \\\n",
    "https://scikit-learn.org/dev/modules/generated/sklearn.ensemble.RandomForestClassifier.html#sklearn-ensemble-randomforestclassifier"
   ]
  },
  {
   "cell_type": "code",
   "execution_count": 121,
   "metadata": {},
   "outputs": [
    {
     "name": "stdout",
     "output_type": "stream",
     "text": [
      "100%|██████████| 300/300 [00:02<00:00, 125.98trial/s, best loss: 0.18333333333333335]\n",
      "best_params={'criterion': 'gini', 'max_depth': 18, 'max_features': 4, 'min_samples_leaf': 2, 'min_samples_split': 9}\n",
      "accuracy: 81.67%\n",
      "\n",
      "confusion_matrix: \n",
      "[[31  4]\n",
      " [ 7 18]]\n",
      "\n",
      "f1-score: 0.8145827261245506\n"
     ]
    }
   ],
   "source": [
    "def objective(params):\n",
    "    criterion = params['criterion']\n",
    "    max_depth = params['max_depth']\n",
    "    max_features = params['max_features']\n",
    "    min_samples_split = params['min_samples_split']\n",
    "    min_samples_leaf = params['min_samples_leaf']\n",
    "\n",
    "    model = DecisionTreeClassifier(criterion=criterion, \n",
    "                                   max_depth=max_depth,\n",
    "                                   max_features = max_features,\n",
    "                                   min_samples_split=min_samples_split, \n",
    "                                   min_samples_leaf=min_samples_leaf)\n",
    "    model.fit(x_train, y_train)\n",
    "    y_pred = model.predict(x_test)\n",
    "    \n",
    "    loss = 1 - accuracy_score(y_test, y_pred)\n",
    "    return {'loss': loss, 'status': STATUS_OK}\n",
    "\n",
    "space = {\n",
    "    'criterion': hp.choice('criterion', ['gini', 'entropy', 'log_loss']),\n",
    "    'max_depth': hp.choice('max_depth', range(1,20)),\n",
    "    'max_features': hp.choice('max_features', range(1,5)),\n",
    "    'min_samples_split': hp.choice('min_samples_split', range(2,20)),\n",
    "    'min_samples_leaf': hp.choice('min_samples_leaf', range(1,5))\n",
    "}\n",
    "\n",
    "trials = Trials()\n",
    "fmin_results = fmin(fn=objective, space=space, algo=tpe.suggest, max_evals=300, trials=trials)\n",
    "best_params = space_eval(space, fmin_results)\n",
    "\n",
    "best_model = DecisionTreeClassifier(criterion=best_params['criterion'],\n",
    "                                    max_depth=best_params['max_depth'],\n",
    "                                    max_features=best_params['max_features'],\n",
    "                                    min_samples_split=best_params['min_samples_split'],\n",
    "                                    min_samples_leaf=best_params['min_samples_leaf'])\n",
    "best_model.fit(x_train, y_train)\n",
    "\n",
    "y_pred = best_model.predict(x_test)\n",
    "score = accuracy_score(y_test, y_pred)\n",
    "print(f\"{best_params=}\")\n",
    "print(f\"accuracy: {np.round(score*100,2)}%\\n\")\n",
    "print(f\"confusion_matrix: \\n{confusion_matrix(y_test, y_pred)}\\n\")\n",
    "print(f\"f1-score: {f1_score(y_test, y_pred, average='weighted')}\")"
   ]
  },
  {
   "cell_type": "markdown",
   "metadata": {},
   "source": [
    "We got almost the same result as the previous one, but with a slightly worse f1-score.\\\n",
    "Let's try Gradient Boosting."
   ]
  },
  {
   "cell_type": "code",
   "execution_count": 133,
   "metadata": {},
   "outputs": [
    {
     "name": "stdout",
     "output_type": "stream",
     "text": [
      "100%|██████████| 300/300 [00:17<00:00, 16.72trial/s, best loss: 0.18333333333333335]\n",
      "best_params={'learning_rate': 0.5, 'max_depth': 17, 'max_features': 52, 'min_samples_leaf': 0.358523063923053, 'min_samples_split': 0.16869502645543236, 'n_estimators': 100}\n",
      "accuracy: 81.67%\n",
      "\n",
      "confusion_matrix: \n",
      "[[29  6]\n",
      " [ 5 20]]\n",
      "\n",
      "f1-score: 0.8171355498721228\n"
     ]
    }
   ],
   "source": [
    "def objective(params):\n",
    "    learning_rate = params['learning_rate']\n",
    "    n_estimators = params['n_estimators']\n",
    "    max_depth = params['max_depth']\n",
    "    min_samples_split = params['min_samples_split']\n",
    "    min_samples_leaf = params['min_samples_leaf']\n",
    "    max_features = params['max_features']\n",
    "    \n",
    "    model = GradientBoostingClassifier(learning_rate=learning_rate,\n",
    "                                       n_estimators=n_estimators,\n",
    "                                       max_depth=max_depth,\n",
    "                                       min_samples_split=min_samples_split,\n",
    "                                       min_samples_leaf=min_samples_leaf,\n",
    "                                       max_features=max_features)\n",
    "    \n",
    "    model.fit(x_train, y_train)\n",
    "    y_pred = model.predict(x_test)\n",
    "    \n",
    "    loss = 1 - accuracy_score(y_test, y_pred)\n",
    "    return {'loss': loss, 'status': STATUS_OK}\n",
    "\n",
    "space = {\n",
    "    'learning_rate': hp.choice('learning_rate', [1, 0.5, 0.25, 0.1, 0.05, 0.01]),\n",
    "    'n_estimators': hp.choice('n_estimators', [1, 2, 4, 8, 16, 32, 64, 100, 200]),\n",
    "    'max_depth': hp.choice('max_depth', range(1, 35)),\n",
    "    'min_samples_split': hp.uniform('min_samples_split', 0.1, 1.0),\n",
    "    'min_samples_leaf': hp.uniform('min_samples_leaf', 0.1, 0.5),\n",
    "    'max_features': hp.choice('max_features', range(1,100))\n",
    "}\n",
    "\n",
    "trials = Trials()\n",
    "fmin_results = fmin(fn=objective, space=space, algo=tpe.suggest, max_evals=300, trials=trials)\n",
    "best_params = space_eval(space, fmin_results)\n",
    "\n",
    "best_model = GradientBoostingClassifier(learning_rate=best_params['learning_rate'],\n",
    "                                        n_estimators=best_params['n_estimators'],\n",
    "                                        max_depth=best_params['max_depth'],\n",
    "                                        min_samples_split=best_params['min_samples_split'],\n",
    "                                        min_samples_leaf=best_params['min_samples_leaf'],\n",
    "                                        max_features=best_params['max_features'])\n",
    "best_model.fit(x_train, y_train)\n",
    "\n",
    "y_pred = best_model.predict(x_test)\n",
    "score = accuracy_score(y_test, y_pred)\n",
    "print(f\"{best_params=}\")\n",
    "print(f\"accuracy: {np.round(score*100, 2)}%\\n\")\n",
    "print(f\"confusion_matrix: \\n{confusion_matrix(y_test, y_pred)}\\n\")\n",
    "print(f\"f1-score: {f1_score(y_test, y_pred, average='weighted')}\")"
   ]
  },
  {
   "cell_type": "markdown",
   "metadata": {},
   "source": [
    "Still no improvement :(\\\n",
    "Let's try Random Forest."
   ]
  },
  {
   "cell_type": "code",
   "execution_count": 17,
   "metadata": {},
   "outputs": [
    {
     "name": "stdout",
     "output_type": "stream",
     "text": [
      "100%|██████████| 400/400 [00:27<00:00, 14.70trial/s, best loss: 0.18333333333333335]\n",
      "best_params={'criterion': 'gini', 'max_depth': 3, 'max_features': 4, 'n_estimators': 8, 'scale': 0}\n",
      "accuracy: 81.67%\n",
      "\n",
      "confusion_matrix: \n",
      "[[31  4]\n",
      " [ 7 18]]\n",
      "\n",
      "f1-score: 0.8145827261245506\n"
     ]
    }
   ],
   "source": [
    "def objective(params):\n",
    "    n_estimators=params['n_estimators']\n",
    "    max_depth=params['max_depth']\n",
    "    max_features=params['max_features']\n",
    "    criterion=params['criterion']\n",
    "\n",
    "    model =  RandomForestClassifier(n_estimators=n_estimators,\n",
    "                                    max_depth=max_depth,\n",
    "                                    max_features=max_features,\n",
    "                                    criterion=criterion,\n",
    "                                    random_state=2024)\n",
    "    \n",
    "    model.fit(x_train, y_train)\n",
    "    y_pred = model.predict(x_test)\n",
    "    \n",
    "    loss = 1 - accuracy_score(y_test, y_pred)\n",
    "    return {'loss': loss, 'status': STATUS_OK}\n",
    "\n",
    "space = {\n",
    "    'n_estimators': hp.choice('n_estimators', range(1,100)),\n",
    "    'max_depth': hp.choice('max_depth', range(1,20)),\n",
    "    'max_features': hp.choice('max_features', range(1,5)),\n",
    "    'criterion': hp.choice('criterion', [\"gini\", \"entropy\"])\n",
    "}\n",
    "\n",
    "trials = Trials()\n",
    "fmin_results = fmin(fn=objective, space=space, algo=tpe.suggest, max_evals=400, trials=trials)\n",
    "best_params = space_eval(space, fmin_results)\n",
    "\n",
    "best_model = RandomForestClassifier(n_estimators=best_params['n_estimators'],\n",
    "                                    max_depth=best_params['max_depth'],\n",
    "                                    max_features=best_params['max_features'],\n",
    "                                    criterion=best_params['criterion'],\n",
    "                                    random_state=2024)\n",
    "best_model.fit(x_train, y_train)\n",
    "\n",
    "y_pred = best_model.predict(x_test)\n",
    "score = accuracy_score(y_test, y_pred)\n",
    "print(f\"{best_params=}\")\n",
    "print(f\"accuracy: {np.round(score*100, 2)}%\\n\")\n",
    "print(f\"confusion_matrix: \\n{confusion_matrix(y_test, y_pred)}\\n\")\n",
    "print(f\"f1-score: {f1_score(y_test, y_pred, average='weighted')}\")"
   ]
  },
  {
   "cell_type": "markdown",
   "metadata": {},
   "source": [
    "Very interesting, the same result again.\\\n",
    "I suspect that to improve the quality of the classification, we need factor variables.\\\n",
    "Let's add the factor variable \"sex\" to the logistic regression and all the categorical and numeric variables for the random forest."
   ]
  },
  {
   "cell_type": "markdown",
   "metadata": {},
   "source": [
    "### 7. Adding factor data to the model.\n",
    "Factor variable: Column 2 - \"Sex\""
   ]
  },
  {
   "cell_type": "markdown",
   "metadata": {},
   "source": [
    "##### Logistic regression + factor variable."
   ]
  },
  {
   "cell_type": "code",
   "execution_count": 99,
   "metadata": {},
   "outputs": [
    {
     "name": "stdout",
     "output_type": "stream",
     "text": [
      "      age  trestbps   chol  thalach  oldpeak   ca  sex_0.0  sex_1.0\n",
      "0    63.0     145.0  233.0    150.0      2.3  0.0    False     True\n",
      "1    67.0     160.0  286.0    108.0      1.5  3.0    False     True\n",
      "2    67.0     120.0  229.0    129.0      2.6  2.0    False     True\n",
      "3    37.0     130.0  250.0    187.0      3.5  0.0    False     True\n",
      "4    41.0     130.0  204.0    172.0      1.4  0.0     True    False\n",
      "..    ...       ...    ...      ...      ...  ...      ...      ...\n",
      "297  57.0     140.0  241.0    123.0      0.2  0.0     True    False\n",
      "298  45.0     110.0  264.0    132.0      1.2  0.0    False     True\n",
      "299  68.0     144.0  193.0    141.0      3.4  2.0    False     True\n",
      "300  57.0     130.0  131.0    115.0      1.2  1.0    False     True\n",
      "301  57.0     130.0  236.0    174.0      0.0  1.0     True    False\n",
      "\n",
      "[297 rows x 8 columns]\n"
     ]
    }
   ],
   "source": [
    "names_list_with_factor= ['age', 'sex', 'trestbps', 'chol', 'thalach', 'oldpeak', 'ca']\n",
    "x_factor = clean_data[names_list_with_factor]\n",
    "x_factor = pd.get_dummies(x_factor, columns=['sex']) # one-hot encoding \n",
    "print(x_factor)\n",
    "min_max_scaler = MinMaxScaler()\n",
    "x_factor = min_max_scaler.fit_transform(x_factor)"
   ]
  },
  {
   "cell_type": "code",
   "execution_count": 104,
   "metadata": {},
   "outputs": [
    {
     "name": "stdout",
     "output_type": "stream",
     "text": [
      "100%|██████████| 1000/1000 [00:08<00:00, 115.02trial/s, best loss: 0.18333333333333335]\n",
      "best_params={'C': 0.36920986412753365, 'penalty': 'l1', 'solver': 'saga'}\n",
      "accuracy: 81.67%\n",
      "\n",
      "confusion_matrix: \n",
      "[[29  6]\n",
      " [ 5 20]]\n",
      "\n",
      "f1-score: 0.8171355498721228\n"
     ]
    }
   ],
   "source": [
    "x_train, x_test, y_train, y_test = train_test_split(x_factor, y, test_size=0.2, random_state=2024)\n",
    "y_train, y_test = y_train.values.ravel(), y_test.values.ravel()  # apply ravel() to avoid DataConversionWarning\n",
    "\n",
    "\n",
    "def objective(params):\n",
    "    C = params['C']\n",
    "    penalty = params['penalty']\n",
    "    solver = params['solver']\n",
    "    \n",
    "    model = LogisticRegression(C=C,\n",
    "                               penalty=penalty,\n",
    "                               solver=solver)\n",
    "    \n",
    "    model.fit(x_train, y_train)\n",
    "    y_pred = model.predict(x_test)\n",
    "    \n",
    "    loss = 1 - accuracy_score(y_test, y_pred)\n",
    "    return {'loss': loss, 'status': STATUS_OK}\n",
    "\n",
    "\n",
    "space = {\n",
    "    'C': hp.uniform('C', 0.01, 100),\n",
    "    'penalty': hp.choice('penalty', ['l1', 'l2']),\n",
    "    'solver': hp.choice('solver', ['liblinear', 'saga'])\n",
    "}\n",
    "\n",
    "trials = Trials()\n",
    "fmin_results = fmin(fn=objective, space=space, algo=tpe.suggest, max_evals=1000, trials=trials)\n",
    "best_params = space_eval(space, fmin_results)\n",
    "\n",
    "best_model = LogisticRegression(C=best_params['C'],\n",
    "                                penalty=best_params['penalty'],\n",
    "                                solver=best_params['solver'])\n",
    "best_model.fit(x_train, y_train)\n",
    "\n",
    "y_pred = best_model.predict(x_test)\n",
    "score = accuracy_score(y_test, y_pred)\n",
    "print(f\"{best_params=}\")\n",
    "print(f\"accuracy: {np.round(score*100, 2)}%\\n\")\n",
    "print(f\"confusion_matrix: \\n{confusion_matrix(y_test, y_pred)}\\n\")\n",
    "print(f\"f1-score: {f1_score(y_test, y_pred, average='weighted')}\")"
   ]
  },
  {
   "cell_type": "markdown",
   "metadata": {},
   "source": [
    "Great, we got a better result compared to the previous logistic regression, but still not better than the absolute record for the accuracy."
   ]
  },
  {
   "cell_type": "markdown",
   "metadata": {},
   "source": [
    "##### Random Forest with all categorical data."
   ]
  },
  {
   "cell_type": "code",
   "execution_count": 82,
   "metadata": {},
   "outputs": [],
   "source": [
    "names_list = ['age', 'sex', 'cp', 'trestbps', 'chol', 'fbs', 'restecg',\n",
    "              'thalach', 'exang', 'oldpeak', 'slope', 'ca', 'thal']\n",
    "x_all = clean_data[names_list_without_categorical_and_response]\n",
    "\n",
    "min_max_scaler = MinMaxScaler()\n",
    "x_all = min_max_scaler.fit_transform(x_all)\n",
    "\n",
    "x_train, x_test, y_train, y_test = train_test_split(x_all, y, test_size=0.2, random_state=2024)\n",
    "y_train, y_test = y_train.values.ravel(), y_test.values.ravel()  # apply ravel() to avoid DataConversionWarning"
   ]
  },
  {
   "cell_type": "code",
   "execution_count": 97,
   "metadata": {},
   "outputs": [
    {
     "name": "stdout",
     "output_type": "stream",
     "text": [
      "100%|██████████| 1000/1000 [01:16<00:00, 13.08trial/s, best loss: 0.15000000000000002]\n",
      "best_params={'criterion': 'entropy', 'max_depth': 8, 'max_features': 3, 'n_estimators': 12}\n",
      "accuracy: 85.0%\n",
      "\n",
      "confusion_matrix: \n",
      "[[30  5]\n",
      " [ 4 21]]\n",
      "\n",
      "f1-score: 0.8503836317135549\n"
     ]
    }
   ],
   "source": [
    "def objective(params):\n",
    "    n_estimators=params['n_estimators']\n",
    "    max_depth=params['max_depth']\n",
    "    max_features=params['max_features']\n",
    "    criterion=params['criterion']\n",
    "\n",
    "    model =  RandomForestClassifier(n_estimators=n_estimators,\n",
    "                                    max_depth=max_depth,\n",
    "                                    max_features=max_features,\n",
    "                                    criterion=criterion,\n",
    "                                    random_state=2024)\n",
    "    \n",
    "    model.fit(x_train, y_train)\n",
    "    y_pred = model.predict(x_test)\n",
    "    \n",
    "    loss = 1 - accuracy_score(y_test, y_pred)\n",
    "    return {'loss': loss, 'status': STATUS_OK}\n",
    "\n",
    "space = {\n",
    "    'n_estimators': hp.choice('n_estimators', range(1,100)),\n",
    "    'max_depth': hp.choice('max_depth', range(1,50)),\n",
    "    'max_features': hp.choice('max_features', range(1,5)),\n",
    "    'criterion': hp.choice('criterion', [\"gini\", \"entropy\"])\n",
    "}\n",
    "\n",
    "trials = Trials()\n",
    "fmin_results = fmin(fn=objective, space=space, algo=tpe.suggest, max_evals=1000, trials=trials)\n",
    "best_params = space_eval(space, fmin_results)\n",
    "\n",
    "best_model = RandomForestClassifier(**best_params, random_state=2024)\n",
    "best_model.fit(x_train, y_train)\n",
    "\n",
    "y_pred = best_model.predict(x_test)\n",
    "score = accuracy_score(y_test, y_pred)\n",
    "print(f\"{best_params=}\")\n",
    "print(f\"accuracy: {np.round(score*100, 2)}%\\n\")\n",
    "print(f\"confusion_matrix: \\n{confusion_matrix(y_test, y_pred)}\\n\")\n",
    "print(f\"f1-score: {f1_score(y_test, y_pred, average='weighted')}\")"
   ]
  },
  {
   "cell_type": "markdown",
   "metadata": {},
   "source": [
    "Hooray, we got our best result - 85%. Congratulations to myself!"
   ]
  },
  {
   "cell_type": "markdown",
   "metadata": {},
   "source": [
    "### 8. Conclusion.\n",
    "So, in the course of our work, we explored the following methods: \n",
    "1. naive bayesian classifier - 68.33% accuracy;\n",
    "2. k-nn method - 78.33% accuracy;\n",
    "3. logistic regression - 78.33% accuracy;\n",
    "4. SVM - 81.67% accuracy;\n",
    "5. decision tree - 81.67% accuracy;\n",
    "6. gradient boosting - 81.67% accuracy;\n",
    "7. random forest - 81.67% accuracy;\n",
    "8. logistic regression with factor variable - 81.67% accuracy;\n",
    "9. random forest with all categorical data - 85.0% accuracy;\n",
    "\n",
    "We can see that we stayed on the plateau of 81.67% accuracy for a long time,\\\n",
    "which can be explained by the lack of a significant amount of categorical dataset data and/or random division of the dataset at the beginning.\\\n",
    "However, as expected, with the addition of categorical data, the accuracy of our classifiers improved.\n"
   ]
  }
 ],
 "metadata": {
  "kernelspec": {
   "display_name": "Python 3 (ipykernel)",
   "language": "python",
   "name": "python3"
  },
  "language_info": {
   "codemirror_mode": {
    "name": "ipython",
    "version": 3
   },
   "file_extension": ".py",
   "mimetype": "text/x-python",
   "name": "python",
   "nbconvert_exporter": "python",
   "pygments_lexer": "ipython3",
   "version": "3.12.2"
  }
 },
 "nbformat": 4,
 "nbformat_minor": 4
}

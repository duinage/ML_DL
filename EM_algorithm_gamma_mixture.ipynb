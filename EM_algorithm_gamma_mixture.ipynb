{
 "cells": [
  {
   "cell_type": "markdown",
   "metadata": {},
   "source": [
    "# Implementation of the EM algorithm for a mixture of gamma distributions.\n",
    "## Author: Vadym Tunik."
   ]
  },
  {
   "cell_type": "code",
   "execution_count": 1,
   "metadata": {},
   "outputs": [],
   "source": [
    "import numpy as np\n",
    "import matplotlib.pyplot as plt\n",
    "\n",
    "from scipy import stats\n",
    "from scipy.special import gamma, digamma\n",
    "from scipy.optimize import fsolve"
   ]
  },
  {
   "cell_type": "markdown",
   "metadata": {},
   "source": [
    "### Generating a mixture of M Gamma distributions"
   ]
  },
  {
   "cell_type": "code",
   "execution_count": 2,
   "metadata": {},
   "outputs": [],
   "source": [
    "M = 2 # The number of mixture components.\n",
    "sample_size = 10**6"
   ]
  },
  {
   "cell_type": "code",
   "execution_count": 3,
   "metadata": {},
   "outputs": [],
   "source": [
    "def generate_random_params():\n",
    "    \"\"\"\n",
    "    generates an array of parameters with weights in the first column, ketta parameter in the second, thetta parameter in the third\n",
    "\n",
    "    return:\n",
    "    params: np.array - (M, 3) array of weight- ketta- thetta parameters to the corresponding y_i cluster.\n",
    "    \"\"\"\n",
    "    kettas = np.log(np.random.randint(3,20,M))\n",
    "    thettas = np.random.randint(1,50,M)\n",
    "    weights = np.random.rand(M)\n",
    "    weights /= np.sum(weights)\n",
    "\n",
    "    params = np.array([(weights[i], kettas[i], thettas[i]) for i in range(M)])\n",
    "    return params\n",
    "\n",
    "def show_params(params):\n",
    "    \"\"\"\n",
    "    displays the mixture parameters on the screen.\n",
    "    \n",
    "    input:\n",
    "    params: np.array - (M, 3) array of weight- alpha- thetta parameters to the corresponding y_i cluster.\n",
    "    \"\"\"\n",
    "    weights = params [:,0]\n",
    "    kettas =  params [:,1]\n",
    "    thettas = params [:,2] \n",
    "    print(f'{weights=}')\n",
    "    print(f\"{kettas=}\")\n",
    "    print(f\"{thettas=}\")\n",
    "    return weights, kettas, thettas\n",
    "\n",
    "\n",
    "def gen_mixture(params):\n",
    "    \"\"\"\n",
    "    generates data from a mixture of distributions with M mixture components.\n",
    "\n",
    "    input:\n",
    "    params: np.array - (M, 3) array of weight- ketta- thetta parameters to the corresponding y_i cluster.\n",
    "\n",
    "    return:\n",
    "    data_samples: np.array\n",
    "    \"\"\"\n",
    "    weights = params [:,0]\n",
    "    kettas =  params [:,1]\n",
    "    thettas = params [:,2]\n",
    "\n",
    "    data_samples = list()\n",
    "\n",
    "    for i in range(M):\n",
    "        new_samples = np.random.gamma(np.exp(kettas[i]), scale=thettas[i], size= int(weights[i]*sample_size))\n",
    "        data_samples.extend(new_samples)\n",
    "\n",
    "    return np.array(data_samples)\n",
    "\n",
    "\n",
    "def show_mixture(X, params):\n",
    "    \"\"\"\n",
    "    X: np.array - \n",
    "    params: np.array - (M, 3) array of weight- alpha- thetta parameters to the corresponding y_i cluster.\n",
    "    \"\"\"\n",
    "    weights = params [:,0]\n",
    "    kettas =  params [:,1]\n",
    "    thettas = params [:,2]\n",
    "\n",
    "    fig, ax = plt.subplots(figsize =(5,3))\n",
    "    ax.hist(X , bins='auto', density=True)\n",
    "\n",
    "    # build theoretical density\n",
    "    x_min = X.min()\n",
    "    x_max = X.max()\n",
    "    x = np.linspace(x_min, x_max, sample_size)\n",
    "    pdf = 0\n",
    "    for i in range(M):\n",
    "        pdf += weights[i] * stats.gamma.pdf(x, a=np.exp(kettas[i]), scale=thettas[i])\n",
    "    ax.plot(x, pdf)"
   ]
  },
  {
   "cell_type": "code",
   "execution_count": 4,
   "metadata": {},
   "outputs": [
    {
     "name": "stdout",
     "output_type": "stream",
     "text": [
      "weights=array([0.5, 0.5])\n",
      "kettas=array([1.60943791, 1.60943791])\n",
      "thettas=array([ 8., 45.])\n"
     ]
    },
    {
     "data": {
      "image/png": "[encoded data removed]",
      "text/plain": [
       "<Figure size 500x300 with 1 Axes>"
      ]
     },
     "metadata": {},
     "output_type": "display_data"
    }
   ],
   "source": [
    "example_params = np.array([[ 0.5,  np.log(5) ,  8 ], [ 0.5,  np.log(5), 45 ]])\n",
    "rand_params = generate_random_params()\n",
    "\n",
    "# USE PARAMS: example_params or rand_params\n",
    "used_params = example_params\n",
    "\n",
    "show_params(used_params)\n",
    "data = gen_mixture(used_params)\n",
    "show_mixture(data, used_params)"
   ]
  },
  {
   "cell_type": "code",
   "execution_count": 5,
   "metadata": {},
   "outputs": [
    {
     "data": {
      "text/plain": [
       "array([ 19.54263895,  37.61740105,  50.82682464, ..., 301.15632701,\n",
       "       307.77568785, 187.57337342])"
      ]
     },
     "execution_count": 5,
     "metadata": {},
     "output_type": "execute_result"
    }
   ],
   "source": [
    "data"
   ]
  },
  {
   "cell_type": "markdown",
   "metadata": {},
   "source": [
    "### EM-algorithm"
   ]
  },
  {
   "cell_type": "markdown",
   "metadata": {},
   "source": [
    "$y_i \\in 1,...,M$ \\\n",
    "$y = (y_1,...,y_N)$"
   ]
  },
  {
   "cell_type": "code",
   "execution_count": 6,
   "metadata": {},
   "outputs": [],
   "source": [
    "def p_l(x, ketta, thetta):\n",
    "    exp_ketta = np.exp(ketta)\n",
    "    return x**(exp_ketta-1) * np.exp(-x/thetta)   / gamma(exp_ketta) / thetta**exp_ketta\n",
    "\n",
    "\n",
    "def e_step(X, M: int, params):\n",
    "    \"\"\"\n",
    "    input:\n",
    "    X: np.array - input X data.\n",
    "    M: int - number of mixture components.\n",
    "    params: np.array - (M, 3) array of weight-ketta-thetta parameters to the corresponding y_i cluster.\n",
    "\n",
    "    return:\n",
    "    Y: np.array - (N, M) array with probabilities that the n-th element belongs to the m-th cluster.\n",
    "    \"\"\"\n",
    "    _Y = []\n",
    "\n",
    "    for i in range(M):\n",
    "        p_l_new = p_l(X, params[i][1], params[i][2])\n",
    "        _Y.append(p_l_new)\n",
    "\n",
    "    _Y = np.array(_Y)\n",
    "    _Y /= _Y.sum(axis=0, keepdims=True)\n",
    "\n",
    "    _Y = _Y.T\n",
    "    return _Y"
   ]
  },
  {
   "cell_type": "code",
   "execution_count": 7,
   "metadata": {},
   "outputs": [],
   "source": [
    "def ketta_equation(ketta, _p_l_sum, _p_l_sum_x_i, _p_l_sum_log_x_i):\n",
    "    return (_p_l_sum_log_x_i / _p_l_sum) - np.log( _p_l_sum_x_i / _p_l_sum ) - digamma(np.exp(ketta)) + ketta\n",
    "\n",
    "def m_step(_X, _Y, theta_g_params_initial):\n",
    "    \"\"\"\n",
    "    input:\n",
    "    X: np.array - input X data.\n",
    "    Y: np.array - (N, M) array with probabilities that the n-th element belongs to the m-th cluster.\n",
    "    theta_g_params_initial: np.array -  (M, 3) array of weight-alpha-thetta parameters to the corresponding y_i cluster; need for alpha params for fsolve.\n",
    "    \n",
    "    return:\n",
    "    params_new: np.array - (M, 3) array with params to corresponding m-th cluster.\n",
    "    \"\"\"\n",
    "    N, M = _Y.shape[0], _Y.shape[1]\n",
    "    \n",
    "    p_l_sum = _Y.sum(axis=0)\n",
    "    p_l_sum_x_i = (_X * _Y.T).sum(axis=1)\n",
    "    p_l_sum_log_x_i = (np.log(_X) * _Y.T).sum(axis=1)\n",
    "\n",
    "    weights_new = p_l_sum / N\n",
    "    ketta_new = fsolve(ketta_equation, theta_g_params_initial[:, 1], args=(p_l_sum, p_l_sum_x_i, p_l_sum_log_x_i))\n",
    "    thetta_new = p_l_sum_x_i / p_l_sum / np.exp(ketta_new)\n",
    "    \n",
    "    params_new = np.array([(weights_new[i],ketta_new[i], thetta_new[i]) for i in range(M)])\n",
    "    return params_new\n"
   ]
  },
  {
   "cell_type": "code",
   "execution_count": 8,
   "metadata": {},
   "outputs": [],
   "source": [
    "def em_algo(X, max_iter=100, show_logs=False):\n",
    "    \"\"\"\n",
    "    input:\n",
    "    n_iterations: int - number of EM iterations to perform.\n",
    "\n",
    "    return:\n",
    "    theta_g_params: (M, 3) np.array - estimated parameters with the EM algorithm.\n",
    "    \"\"\"\n",
    "    # let's initialize random params\n",
    "    theta_g_weights = np.array([1/M for _ in range(M)])\n",
    "    theta_g_kettas = np.random.randint(2,3,M)\n",
    "    theta_g_thettas = np.random.randint(2,10,M)\n",
    "    theta_g_params = np.array([(theta_g_weights[i],theta_g_kettas[i], theta_g_thettas[i]) for i in range(M)])\n",
    "\n",
    "    for iter in range(max_iter):\n",
    "        Y_0 = e_step(X, M, theta_g_params)\n",
    "        theta_g_params_new = m_step(X, Y_0, theta_g_params)\n",
    "        theta_g_params = theta_g_params_new\n",
    "        if show_logs:\n",
    "            print(f\"{iter=}: weights = {theta_g_params[:,0]} kettas = {theta_g_params[:,1]} thettas = {theta_g_params[:,2]}\")\n",
    "\n",
    "    return theta_g_params\n"
   ]
  },
  {
   "cell_type": "code",
   "execution_count": 9,
   "metadata": {},
   "outputs": [],
   "source": [
    "estim_params = em_algo(data, max_iter=100, show_logs=False) "
   ]
  },
  {
   "cell_type": "code",
   "execution_count": 10,
   "metadata": {},
   "outputs": [
    {
     "name": "stdout",
     "output_type": "stream",
     "text": [
      "TRUE:\n",
      "weights=array([0.5, 0.5])\n",
      "kettas=array([1.60943791, 1.60943791])\n",
      "thettas=array([ 8., 45.])\n",
      "ESTIMATED:\n",
      "weights=array([0.49952648, 0.50047352])\n",
      "kettas=array([1.61018805, 1.60939332])\n",
      "thettas=array([ 7.98358467, 44.94560554])\n"
     ]
    },
    {
     "data": {
      "image/png": "[encoded data removed]",
      "text/plain": [
       "<Figure size 500x300 with 1 Axes>"
      ]
     },
     "metadata": {},
     "output_type": "display_data"
    }
   ],
   "source": [
    "print(\"TRUE:\")\n",
    "weights_true, kettas_true, thettas_true = show_params(used_params)\n",
    "print(\"ESTIMATED:\")\n",
    "weights_estim, kettas_estim, thettas_estim = show_params(estim_params)\n",
    "show_mixture(data, estim_params)"
   ]
  }
 ],
 "metadata": {
  "kernelspec": {
   "display_name": "Python 3",
   "language": "python",
   "name": "python3"
  },
  "language_info": {
   "codemirror_mode": {
    "name": "ipython",
    "version": 3
   },
   "file_extension": ".py",
   "mimetype": "text/x-python",
   "name": "python",
   "nbconvert_exporter": "python",
   "pygments_lexer": "ipython3",
   "version": "3.12.2"
  },
  "orig_nbformat": 4
 },
 "nbformat": 4,
 "nbformat_minor": 2
}
